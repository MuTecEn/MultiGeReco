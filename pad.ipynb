{
 "cells": [
  {
   "cell_type": "code",
   "execution_count": 6,
   "metadata": {},
   "outputs": [],
   "source": [
    "import os\n",
    "import torch\n",
    "import glob\n",
    "import numpy as np\n",
    "import pandas as pd\n",
    "from sklearn.preprocessing import LabelEncoder\n",
    "from sklearn.model_selection import train_test_split\n",
    "from sklearn.model_selection import (\n",
    "    GroupKFold,\n",
    "    GroupShuffleSplit,\n",
    "    KFold,\n",
    "    ShuffleSplit,\n",
    "    StratifiedGroupKFold,\n",
    "    StratifiedKFold,\n",
    "    StratifiedShuffleSplit,\n",
    "    TimeSeriesSplit,\n",
    ")"
   ]
  },
  {
   "cell_type": "code",
   "execution_count": 5,
   "metadata": {},
   "outputs": [],
   "source": [
    "# Load metadata CSV file\n",
    "path = \"C:/Users/annammc/Documents/Gestures\"\n",
    "audiofile_list = glob.glob(os.path.join(path, \"*.wav\"))\n",
    "videofile_list = glob.glob(os.path.join(path, \"*.mov\"))\n",
    "midifile_list = glob.glob(os.path.join(path, \"*.mid\"))\n",
    "mocapcsv_list = glob.glob(os.path.join(path, \"*.csv\"))\n"
   ]
  },
  {
   "cell_type": "code",
   "execution_count": 11,
   "metadata": {},
   "outputs": [],
   "source": [
    "chunk_size = 100  # Set the desired chunk size\n",
    "\n",
    "mocapcsv_list = [...]  # Add the list of input CSV files\n",
    "\n",
    "for item in mocapcsv_list:\n",
    "    df = pd.read_csv(item)\n",
    "    basename = os.path.splitext(os.path.basename(item))[0]\n",
    "\n",
    "    LHAND_x = df['LHAND_x'].to_numpy()\n",
    "    LHAND_y = df['LHAND_y'].to_numpy()\n",
    "    LHAND_z = df['LHAND_z'].to_numpy()\n",
    "    RHAND_x = df['RHAND_x'].to_numpy()\n",
    "    RHAND_y = df['RHAND_y'].to_numpy()\n",
    "    RHAND_z = df['RHAND_z'].to_numpy()\n",
    "\n",
    "    # Compute velocity for each hand\n",
    "    LHAND_velocity_x = np.gradient(LHAND_x)\n",
    "    LHAND_velocity_y = np.gradient(LHAND_y)\n",
    "    LHAND_velocity_z = np.gradient(LHAND_z)\n",
    "\n",
    "    RHAND_velocity_x = np.gradient(RHAND_x)\n",
    "    RHAND_velocity_y = np.gradient(RHAND_y)\n",
    "    RHAND_velocity_z = np.gradient(RHAND_z)\n",
    "\n",
    "    # Compute acceleration for each hand \n",
    "    LHAND_acceleration_x = np.gradient(LHAND_velocity_x)\n",
    "    LHAND_acceleration_y = np.gradient(LHAND_velocity_y)\n",
    "    LHAND_acceleration_z = np.gradient(LHAND_velocity_z)\n",
    "\n",
    "    RHAND_acceleration_x = np.gradient(RHAND_velocity_x)\n",
    "    RHAND_acceleration_y = np.gradient(RHAND_velocity_y)\n",
    "    RHAND_acceleration_z = np.gradient(RHAND_velocity_z)\n",
    "\n",
    "    # Stack the velocity and acceleration arrays for each hand\n",
    "    mocap_feature = np.vstack((LHAND_velocity_x, LHAND_velocity_y, LHAND_velocity_z,\n",
    "                               LHAND_acceleration_x, LHAND_acceleration_y, LHAND_acceleration_z,\n",
    "                               RHAND_velocity_x, RHAND_velocity_y, RHAND_velocity_z,\n",
    "                               RHAND_acceleration_x, RHAND_acceleration_y, RHAND_acceleration_z))\n",
    "\n",
    "    # Split the mocap feature into chunks and save each chunk\n",
    "    num_chunks = len(mocap_feature[0]) // chunk_size\n",
    "\n",
    "    for i in range(num_chunks):\n",
    "        chunk_start = i * chunk_size\n",
    "        chunk_end = (i + 1) * chunk_size\n",
    "\n",
    "        chunk = mocap_feature[:, chunk_start:chunk_end]\n",
    "        np.save(f\"/itf-fi-ml/shared/users/annammc/mocap_features/{basename}_chunk{i+1}.npy\", chunk)\n",
    "\n",
    "        "
   ]
  },
  {
   "cell_type": "code",
   "execution_count": 12,
   "metadata": {},
   "outputs": [],
   "source": [
    "db_gesture = \"C:/Users/annammc/Downloads/Anna/test/*\"\n",
    "files = glob.glob(db_gesture)\n",
    "filename = [os.path.basename(item) for item in files]\n",
    "\n",
    "target = [item.split(\"_\")[-2] for item in files]\n",
    "\n",
    "label_encoder = LabelEncoder()\n",
    "target_idx = label_encoder.fit_transform(target) # Change class names to numeric\n",
    "\n",
    "dict = {'mocap_npy': filename, 'target': target, 'target_idx': target_idx}\n",
    "dataset_all = pd.DataFrame(dict)\n",
    "\n",
    "dataset_all.to_csv('metadata.csv')\n"
   ]
  },
  {
   "cell_type": "code",
   "execution_count": 13,
   "metadata": {},
   "outputs": [],
   "source": [
    "X = dataset_all['mocap_npy']\n",
    "y = dataset_all['target_idx']\n",
    "X_train, X_test, y_train, y_test = train_test_split(X, y, test_size=0.25, shuffle=True)"
   ]
  },
  {
   "cell_type": "code",
   "execution_count": 14,
   "metadata": {},
   "outputs": [],
   "source": [
    "train_df = pd.DataFrame({'filename': list(X_train), 'target': list(y_train)})\n",
    "test_df = pd.DataFrame({'filename':list(X_test), 'target': list(y_test)})\n",
    "\n",
    "train_df.to_csv(\"train.csv\") \n",
    "test_df.to_csv(\"test.csv\")"
   ]
  }
 ],
 "metadata": {
  "kernelspec": {
   "display_name": "base",
   "language": "python",
   "name": "python3"
  },
  "language_info": {
   "codemirror_mode": {
    "name": "ipython",
    "version": 3
   },
   "file_extension": ".py",
   "mimetype": "text/x-python",
   "name": "python",
   "nbconvert_exporter": "python",
   "pygments_lexer": "ipython3",
   "version": "3.12.0b4"
  }
 },
 "nbformat": 4,
 "nbformat_minor": 2
}
