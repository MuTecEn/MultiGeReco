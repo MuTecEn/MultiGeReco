{
 "cells": [
  {
   "cell_type": "code",
   "execution_count": null,
   "metadata": {},
   "outputs": [],
   "source": [
    "# Load all the necessary modules\n",
    "\n",
    "import torch\n",
    "import torch.nn as nn\n",
    "import numpy as np\n",
    "import matplotlib.pyplot as plt\n",
    "from config import get_config\n",
    "from torch.utils.data import Dataset\n",
    "from torch.utils.data import DataLoader\n",
    "import pandas as pd\n",
    "\n",
    "from AUDIO.model import AudioCNN\n",
    "from MOCAP.model import Simple1DCNN\n",
    "from VIDEO.model_video import VideoCNN\n",
    "\n",
    "from AUDIO.dataset_audio import AudioDataset\n",
    "from MOCAP.dataset_mc import MotionDataset\n",
    "from VIDEO.dataset import MultiDataset\n"
   ]
  },
  {
   "cell_type": "code",
   "execution_count": null,
   "metadata": {},
   "outputs": [],
   "source": [
    "# Create instances of the specific model classes\n",
    "model1 = AudioCNN(num_classes=5)  \n",
    "model2 = Simple1DCNN(num_classes=5)  \n",
    "model3 = VideoCNN(num_classes=5)  "
   ]
  },
  {
   "cell_type": "code",
   "execution_count": null,
   "metadata": {},
   "outputs": [],
   "source": [
    "# Load the saved state_dicts into the model instances\n",
    "model1.load_state_dict(torch.load('/path/to/audio_model.pth'))\n",
    "print(model1.fc5.weight.shape)\n",
    "model2.load_state_dict(torch.load('/path/to/mocap_model.pth'))\n",
    "print(model2.fc5.weight.shape)\n",
    "model3.load_state_dict(torch.load('/path/to/video_model.pth'))\n",
    "print(model3.fc5.weight.shape)"
   ]
  },
  {
   "cell_type": "code",
   "execution_count": null,
   "metadata": {},
   "outputs": [],
   "source": [
    "representations_mocap = []\n",
    "representations_video = []\n",
    "representations_audio = []"
   ]
  },
  {
   "cell_type": "code",
   "execution_count": null,
   "metadata": {},
   "outputs": [],
   "source": [
    "model1.eval()\n",
    "model2.eval()\n",
    "model3.eval()"
   ]
  },
  {
   "cell_type": "code",
   "execution_count": null,
   "metadata": {},
   "outputs": [],
   "source": [
    "config = get_config()\n",
    "\n",
    "dataset_mocap = MotionDataset(csv_file='/path/to/combined_mocap.csv', root_dir='/path/to/mocap/data', nb_class=config['n_class'])\n",
    "dataset_video = MultiDataset(csv_file='/path/to/combined_video.csv', root_dir='/path/to/video/data', nb_class=config['n_class'])\n",
    "dataset_audio = AudioDataset(csv_file='/path/to/combined_audio.csv' , root_dir = '/path/to/audio/data', nb_class=config['n_class'])\n",
    "\n",
    "dataloader_mocap = DataLoader(dataset_mocap, batch_size=config['batch_size'], shuffle=True)\n",
    "dataloader_video = DataLoader(dataset_video, batch_size=config['batch_size'], shuffle=True)\n",
    "dataloader_audio = DataLoader(dataset_audio, batch_size=config['batch_size'], shuffle=True)"
   ]
  },
  {
   "cell_type": "code",
   "execution_count": null,
   "metadata": {},
   "outputs": [],
   "source": [
    "for data in dataset_mocap:\n",
    "    input_mocap, label = data  \n",
    "    # Pass input through the model to get representations\n",
    "    representation = model2(input_mocap.unsqueeze(0).unsqueeze(0))\n",
    "    representations_mocap.append(representation)\n",
    "\n",
    "for data in dataset_video:\n",
    "    input_video, label = data \n",
    "    representation = model3(input_video.unsqueeze(0).unsqueeze(0))  \n",
    "    representations_video.append(representation)\n",
    "\n",
    "for data in dataset_audio:\n",
    "    input_audio, label = data  \n",
    "    representation = model1(input_audio.unsqueeze(0).unsqueeze(0))\n",
    "    representations_audio.append(representation)"
   ]
  },
  {
   "cell_type": "code",
   "execution_count": null,
   "metadata": {},
   "outputs": [],
   "source": [
    "representations_mocap = torch.cat(representations_mocap, dim=1)\n",
    "representations_video = torch.cat(representations_video, dim=1)\n",
    "representations_audio = torch.cat(representations_audio, dim=1)"
   ]
  },
  {
   "cell_type": "code",
   "execution_count": null,
   "metadata": {},
   "outputs": [],
   "source": [
    "fused_representations = torch.cat([representations_mocap, representations_video, representations_audio], dim=1)"
   ]
  },
  {
   "cell_type": "code",
   "execution_count": null,
   "metadata": {},
   "outputs": [],
   "source": [
    "# Convert the representation data into a PyTorch tensor\n",
    "input_tensor = torch.tensor(fused_representations, dtype=torch.float32)\n",
    "\n",
    "# Add an extra dimension to represent the batch size (assuming the concatenated representation is for a single sample)\n",
    "input_tensor = input_tensor.unsqueeze(dim=0)\n"
   ]
  }
 ],
 "metadata": {
  "kernelspec": {
   "display_name": "base",
   "language": "python",
   "name": "python3"
  },
  "language_info": {
   "codemirror_mode": {
    "name": "ipython",
    "version": 3
   },
   "file_extension": ".py",
   "mimetype": "text/x-python",
   "name": "python",
   "nbconvert_exporter": "python",
   "pygments_lexer": "ipython3",
   "version": "3.11.5"
  }
 },
 "nbformat": 4,
 "nbformat_minor": 2
}
