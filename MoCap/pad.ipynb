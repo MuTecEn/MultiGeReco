{
 "cells": [
  {
   "cell_type": "code",
   "execution_count": 1,
   "metadata": {},
   "outputs": [],
   "source": [
    "import os\n",
    "import torch\n",
    "import glob\n",
    "import numpy as np\n",
    "import pandas as pd\n",
    "from sklearn.preprocessing import LabelEncoder\n",
    "from sklearn.model_selection import train_test_split"
   ]
  },
  {
   "cell_type": "code",
   "execution_count": 2,
   "metadata": {},
   "outputs": [],
   "source": [
    "# Load metadata CSV file\n",
    "path = \"C:/Users/annammc/Documents/Gestures\"\n",
    "# path = \"/itf-fi-ml/shared/users/annammc/gestures/mocap_csv\" FOR ML NODE\n",
    "audiofile_list = glob.glob(os.path.join(path, \"*.wav\"))\n",
    "videofile_list = glob.glob(os.path.join(path, \"*.mov\"))\n",
    "midifile_list = glob.glob(os.path.join(path, \"*.mid\"))\n",
    "mocapcsv_list = glob.glob(os.path.join(path, \"*.csv\"))\n"
   ]
  },
  {
   "cell_type": "code",
   "execution_count": 4,
   "metadata": {},
   "outputs": [],
   "source": [
    "for item in mocapcsv_list:\n",
    "    df = pd.read_csv(item)\n",
    "    basename = os.path.splitext(os.path.basename(item))[0]\n",
    "\n",
    "    LHAND_x = df['LHAND_x'].to_numpy()\n",
    "    LHAND_y = df['LHAND_y'].to_numpy()\n",
    "    LHAND_z = df['LHAND_z'].to_numpy()\n",
    "    RHAND_x = df['RHAND_x'].to_numpy()\n",
    "    RHAND_y = df['RHAND_y'].to_numpy()\n",
    "    RHAND_z = df['RHAND_z'].to_numpy()\n",
    "\n",
    "    # Compute velocity for each hand\n",
    "    LHAND_velocity_x = np.gradient(LHAND_x)\n",
    "    LHAND_velocity_y = np.gradient(LHAND_y)\n",
    "    LHAND_velocity_z = np.gradient(LHAND_z)\n",
    "\n",
    "    RHAND_velocity_x = np.gradient(RHAND_x)\n",
    "    RHAND_velocity_y = np.gradient(RHAND_y)\n",
    "    RHAND_velocity_z = np.gradient(RHAND_z)\n",
    "\n",
    "    # Compute acceleration for each hand \n",
    "    LHAND_acceleration_x = np.gradient(LHAND_velocity_x)\n",
    "    LHAND_acceleration_y = np.gradient(LHAND_velocity_y)\n",
    "    LHAND_acceleration_z = np.gradient(LHAND_velocity_z)\n",
    "\n",
    "    RHAND_acceleration_x = np.gradient(RHAND_velocity_x)\n",
    "    RHAND_acceleration_y = np.gradient(RHAND_velocity_y)\n",
    "    RHAND_acceleration_z = np.gradient(RHAND_velocity_z)\n",
    "\n",
    "    # Stack the velocity and acceleration arrays for each hand\n",
    "    mocap_feature = np.vstack((LHAND_velocity_x, LHAND_velocity_y, LHAND_velocity_z,\n",
    "                               LHAND_acceleration_x, LHAND_acceleration_y, LHAND_acceleration_z,\n",
    "                               RHAND_velocity_x, RHAND_velocity_y, RHAND_velocity_z,\n",
    "                               RHAND_acceleration_x, RHAND_acceleration_y, RHAND_acceleration_z))\n",
    "\n",
    "\n",
    "    np.save(f\"C:/Users/annammc/Downloads/Anna/MoCap/mocap/{basename}.npy\", mocap_feature)\n",
    "    # np.save(f\"/itf-fi-ml/shared/users/annammc/Anna/mocap2/{basename}.npy\", mocap_feature) FOR ML NODE\n",
    "\n",
    "        "
   ]
  },
  {
   "cell_type": "code",
   "execution_count": 5,
   "metadata": {},
   "outputs": [],
   "source": [
    "db_gesture = \"C:/Users/annammc/Downloads/Anna/MoCap/mocap/*\"\n",
    "# db_gesture = \"/itf-fi-ml/shared/users/annammc/Anna/mocap2/*\" FOR ML NODE\n",
    "files = glob.glob(db_gesture)\n",
    "filename = [os.path.basename(item) for item in files]\n",
    "\n",
    "target = [item.split(\"_\")[-3] for item in files]\n",
    "\n",
    "label_encoder = LabelEncoder()\n",
    "target_idx = label_encoder.fit_transform(target) # Change class names to numeric\n",
    "\n",
    "dict = {'mocap_npy': filename, 'target': target, 'target_idx': target_idx}\n",
    "dataset_all = pd.DataFrame(dict)\n",
    "\n",
    "dataset_all.to_csv('metadata.csv')\n"
   ]
  },
  {
   "cell_type": "code",
   "execution_count": 6,
   "metadata": {},
   "outputs": [],
   "source": [
    "X = dataset_all['mocap_npy']\n",
    "y = dataset_all['target_idx']\n",
    "X_train, X_test, y_train, y_test = train_test_split(X, y, test_size=0.25, shuffle=True)"
   ]
  },
  {
   "cell_type": "code",
   "execution_count": 7,
   "metadata": {},
   "outputs": [],
   "source": [
    "train_df = pd.DataFrame({'filename': list(X_train), 'target': list(y_train)})\n",
    "test_df = pd.DataFrame({'filename':list(X_test), 'target': list(y_test)})\n",
    "\n",
    "train_df.to_csv(\"C:/Users/annammc/Downloads/Anna/MoCap/mocap/train.csv\") \n",
    "test_df.to_csv(\"C:/Users/annammc/Downloads/Anna/MoCap/mocap/test.csv\") \n",
    "# train_df.to_csv(\"/itf-fi-ml/shared/users/annammc/Anna/mocap2/train.csv\") \n",
    "# test_df.to_csv(\"/itf-fi-ml/shared/users/annammc/Anna/mocap2/test.csv\")"
   ]
  },
  {
   "cell_type": "code",
   "execution_count": 40,
   "metadata": {},
   "outputs": [
    {
     "name": "stdout",
     "output_type": "stream",
     "text": [
      "Fold 1/5\n",
      "Fold 2/5\n",
      "Fold 3/5\n",
      "Fold 4/5\n",
      "Fold 5/5\n"
     ]
    }
   ],
   "source": [
    "# X = dataset_all['mocap_npy']\n",
    "# y = dataset_all['target_idx']\n",
    "\n",
    "# # Define the number of folds\n",
    "# num_folds = 5\n",
    "\n",
    "# # Perform K-Fold cross-validation\n",
    "# kf = KFold(n_splits=num_folds, shuffle=True)\n",
    "\n",
    "# fold = 0\n",
    "# for train_indices, test_indices in kf.split(X):\n",
    "#     print(f\"Fold {fold + 1}/{num_folds}\")\n",
    "    \n",
    "#     # Split the data for this fold\n",
    "#     X_train, X_test = X[train_indices], X[test_indices]\n",
    "#     y_train, y_test = y[train_indices], y[test_indices]\n",
    "    \n",
    "#     train_df = pd.DataFrame({'filename': list(X_train), 'target': list(y_train)})\n",
    "#     test_df = pd.DataFrame({'filename':list(X_test), 'target': list(y_test)})\n",
    "    \n",
    "#     train_df.to_csv(f\"train_fold{fold+1}.csv\")\n",
    "#     test_df.to_csv(f\"test_fold{fold+1}.csv\")\n",
    "    \n",
    "#     fold += 1"
   ]
  }
 ],
 "metadata": {
  "kernelspec": {
   "display_name": "base",
   "language": "python",
   "name": "python3"
  },
  "language_info": {
   "codemirror_mode": {
    "name": "ipython",
    "version": 3
   },
   "file_extension": ".py",
   "mimetype": "text/x-python",
   "name": "python",
   "nbconvert_exporter": "python",
   "pygments_lexer": "ipython3",
   "version": "3.12.0b4"
  }
 },
 "nbformat": 4,
 "nbformat_minor": 2
}
