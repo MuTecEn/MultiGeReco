{
 "cells": [
  {
   "cell_type": "code",
   "execution_count": 6,
   "metadata": {},
   "outputs": [],
   "source": [
    "import os\n",
    "import torchaudio\n",
    "import torch\n",
    "import glob\n",
    "import numpy as np\n",
    "import pandas as pd\n",
    "from sklearn.preprocessing import LabelEncoder\n",
    "from sklearn.model_selection import train_test_split\n",
    "from dataset import MultiDataset\n",
    "from sklearn.model_selection import KFold"
   ]
  },
  {
   "cell_type": "code",
   "execution_count": 5,
   "metadata": {},
   "outputs": [],
   "source": [
    "# Load metadata CSV file \n",
    "path = \"C:/Users/annammc/Documents/Gestures\"\n",
    "audiofile_list = glob.glob(os.path.join(path, \"*.wav\"))\n",
    "videofile_list = glob.glob(os.path.join(path, \"*.mov\"))\n",
    "midifile_list = glob.glob(os.path.join(path, \"*.mid\"))\n",
    "mocapcsv_list = glob.glob(os.path.join(path, \"*.csv\"))\n"
   ]
  },
  {
   "cell_type": "code",
   "execution_count": 11,
   "metadata": {},
   "outputs": [],
   "source": [
    "# Convert the audio features to numpy \n",
    "audio_features_list = []\n",
    "for audio_file in audiofile_list:\n",
    "    features = MultiDataset(audio_file)\n",
    "    audio_features_list.append(features)\n",
    "\n",
    "# Split the audio features into chunks\n",
    "chunk_size = 1000\n",
    "audio_chunks = [features[i:i+chunk_size] for i in range(0, len(features), chunk_size)]\n",
    "\n",
    "# Save the audio chunks as individual npy files\n",
    "for i, chunk in enumerate(audio_chunks):\n",
    "    np.save(f\"/itf-fi-ml/shared/users/annammc/audio_features/audio_chunk{i+1}.npy\", chunk)\n",
    "        "
   ]
  },
  {
   "cell_type": "code",
   "execution_count": 12,
   "metadata": {},
   "outputs": [],
   "source": [
    "db_gesture = \"C:/Users/annammc/Downloads/Anna/test/*\"\n",
    "files = glob.glob(db_gesture)\n",
    "filename = [os.path.basename(item) for item in files]\n",
    "\n",
    "target = [item.split(\"_\")[-2] for item in files]\n",
    "\n",
    "label_encoder = LabelEncoder()\n",
    "target_idx = label_encoder.fit_transform(target) # Change class names to numeric\n",
    "\n",
    "dict = {'audio_npy': filename, 'target': target, 'target_idx': target_idx}\n",
    "dataset_all = pd.DataFrame(dict)\n",
    "\n",
    "dataset_all.to_csv('metadata.csv')\n"
   ]
  },
  {
   "cell_type": "code",
   "execution_count": 14,
   "metadata": {},
   "outputs": [],
   "source": [
    "X = dataset_all['audio_npy']\n",
    "y = dataset_all['target_idx']\n",
    "\n",
    "# Define the number of folds\n",
    "num_folds = 5\n",
    "\n",
    "# Perform K-Fold cross-validation\n",
    "kf = KFold(n_splits=num_folds, shuffle=True)\n",
    "\n",
    "fold = 0\n",
    "for train_indices, test_indices in kf.split(X):\n",
    "    print(f\"Fold {fold + 1}/{num_folds}\")\n",
    "    \n",
    "    # Split the data for this fold\n",
    "    X_train, X_test = X[train_indices], X[test_indices]\n",
    "    y_train, y_test = y[train_indices], y[test_indices]\n",
    "    \n",
    "    train_df = pd.DataFrame({'filename': list(X_train), 'target': list(y_train)})\n",
    "    test_df = pd.DataFrame({'filename':list(X_test), 'target': list(y_test)})\n",
    "    \n",
    "    train_df.to_csv(f\"train_fold{fold+1}.csv\")\n",
    "    test_df.to_csv(f\"test_fold{fold+1}.csv\")\n",
    "    \n",
    "    fold += 1"
   ]
  }
 ],
 "metadata": {
  "kernelspec": {
   "display_name": "base",
   "language": "python",
   "name": "python3"
  },
  "language_info": {
   "codemirror_mode": {
    "name": "ipython",
    "version": 3
   },
   "file_extension": ".py",
   "mimetype": "text/x-python",
   "name": "python",
   "nbconvert_exporter": "python",
   "pygments_lexer": "ipython3",
   "version": "3.12.0b4"
  }
 },
 "nbformat": 4,
 "nbformat_minor": 2
}
