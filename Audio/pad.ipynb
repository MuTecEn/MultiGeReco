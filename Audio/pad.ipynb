{
 "cells": [
  {
   "cell_type": "code",
   "execution_count": null,
   "metadata": {},
   "outputs": [],
   "source": [
    "# Load all the necessary modules\n",
    "\n",
    "import os\n",
    "import torch\n",
    "import glob\n",
    "import numpy as np\n",
    "import pandas as pd\n",
    "from sklearn.preprocessing import LabelEncoder\n",
    "from sklearn.model_selection import train_test_split\n",
    "import librosa"
   ]
  },
  {
   "cell_type": "code",
   "execution_count": 5,
   "metadata": {},
   "outputs": [],
   "source": [
    "# Load metadata CSV file\n",
    "path = \"/itf-fi-ml/shared/users/annammc/gestures/audio\"\n",
    "audiofile_list = glob.glob(os.path.join(path, \"*.wav\"))\n",
    "# videofile_list = glob.glob(os.path.join(path, \"*.mov\"))\n",
    "# midifile_list = glob.glob(os.path.join(path, \"*.mid\"))\n",
    "# mocapcsv_list = glob.glob(os.path.join(path, \"*.csv\"))\n"
   ]
  },
  {
   "cell_type": "code",
   "execution_count": 11,
   "metadata": {},
   "outputs": [],
   "source": [
    "for audio_file_path in audiofile_list:\n",
    "    \n",
    "    y, sr = librosa.load(audio_file_path, sr=None)\n",
    "\n",
    "    mfcc = librosa.feature.mfcc(y=y, sr=sr, n_mfcc=13)\n",
    "    chromagram = librosa.feature.chroma_stft(y=y, sr=sr)\n",
    "    tempogram = librosa.feature.tempogram(y=y, sr=sr)\n",
    "\n",
    "    basename = os.path.splitext(os.path.basename(audio_file_path))[0] \n",
    "\n",
    "    # Stack the features into a 2D array\n",
    "    audio_feature = np.vstack((mfcc, chromagram, tempogram))\n",
    "\n",
    "    # Save the feature array into a .npy file\n",
    "    np.save(f\"/itf-fi-ml/shared/users/annammc/Anna/audio/{basename}.npy\", audio_feature)"
   ]
  },
  {
   "cell_type": "code",
   "execution_count": 12,
   "metadata": {},
   "outputs": [],
   "source": [
    "db_gesture = \"/itf-fi-ml/shared/users/annammc/Anna/audio/*\"\n",
    "files = glob.glob(db_gesture)\n",
    "filename = [os.path.basename(item) for item in files]\n",
    "\n",
    "target = [item.split(\"_\")[-3] for item in files]\n",
    "\n",
    "label_encoder = LabelEncoder()\n",
    "target_idx = label_encoder.fit_transform(target) # Change class names to numeric\n",
    "\n",
    "dict = {'audio_npy': filename, 'target': target, 'target_idx': target_idx}\n",
    "dataset_all = pd.DataFrame(dict)\n",
    "\n",
    "dataset_all.to_csv('metadata.csv')\n"
   ]
  },
  {
   "cell_type": "code",
   "execution_count": 14,
   "metadata": {},
   "outputs": [],
   "source": [
    "X = dataset_all['audio_npy']\n",
    "y = dataset_all['target_idx']\n",
    "X_train, X_test, y_train, y_test = train_test_split(X, y, test_size=0.25, shuffle=True)"
   ]
  },
  {
   "cell_type": "code",
   "execution_count": null,
   "metadata": {},
   "outputs": [],
   "source": [
    "train_df = pd.DataFrame({'filename': list(X_train), 'target': list(y_train)})\n",
    "test_df = pd.DataFrame({'filename':list(X_test), 'target': list(y_test)})\n",
    "\n",
    "train_df.to_csv(\"/itf-fi-ml/shared/users/annammc/Anna/audio/train.csv\") \n",
    "test_df.to_csv(\"/itf-fi-ml/shared/users/annammc/Anna/audio/test.csv\")"
   ]
  }
 ],
 "metadata": {
  "kernelspec": {
   "display_name": "base",
   "language": "python",
   "name": "python3"
  },
  "language_info": {
   "codemirror_mode": {
    "name": "ipython",
    "version": 3
   },
   "file_extension": ".py",
   "mimetype": "text/x-python",
   "name": "python",
   "nbconvert_exporter": "python",
   "pygments_lexer": "ipython3",
   "version": "3.12.0b4"
  }
 },
 "nbformat": 4,
 "nbformat_minor": 2
}
