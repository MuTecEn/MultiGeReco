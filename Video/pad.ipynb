{
 "cells": [
  {
   "cell_type": "code",
   "execution_count": 6,
   "metadata": {},
   "outputs": [],
   "source": [
    "# Load all the necessary modules\n",
    "\n",
    "import os\n",
    "import torch\n",
    "import glob\n",
    "import numpy as np\n",
    "import pandas as pd\n",
    "from sklearn.preprocessing import LabelEncoder\n",
    "from sklearn.model_selection import train_test_split\n",
    "import cv2\n"
   ]
  },
  {
   "cell_type": "code",
   "execution_count": 5,
   "metadata": {},
   "outputs": [],
   "source": [
    "# Load metadata CSV file\n",
    "path = \"/itf-fi-ml/shared/users/annammc/gestures/video\"\n",
    "# audiofile_list = glob.glob(os.path.join(path, \"*.wav\"))\n",
    "videofile_list = glob.glob(os.path.join(path, \"*.mov\"))\n",
    "# midifile_list = glob.glob(os.path.join(path, \"*.mid\"))\n",
    "# mocapcsv_list = glob.glob(os.path.join(path, \"*.csv\"))"
   ]
  },
  {
   "cell_type": "code",
   "execution_count": 11,
   "metadata": {},
   "outputs": [],
   "source": [
    "for video_file_path in videofile_list:\n",
    "    cap = cv2.VideoCapture(video_file_path)\n",
    "\n",
    "    # Read first frame\n",
    "    ret, prev_frame = cap.read()\n",
    "    if not ret:\n",
    "        print(f'Failed to read video {video_file_path}')\n",
    "        cap.release()\n",
    "        continue\n",
    "\n",
    "    # Convert to grayscale\n",
    "    prev_frame_gray = cv2.cvtColor(prev_frame, cv2.COLOR_BGR2GRAY)\n",
    "\n",
    "    # Initialize vertical and horizontal motiongrams\n",
    "    vertical_motiongram = np.zeros_like(prev_frame_gray, dtype=np.float32)\n",
    "    horizontal_motiongram = np.zeros_like(prev_frame_gray, dtype=np.float32)\n",
    "\n",
    "    # Process the video\n",
    "    while True:\n",
    "        ret, frame = cap.read()\n",
    "        if not ret:\n",
    "            break\n",
    "\n",
    "        frame_gray = cv2.cvtColor(frame, cv2.COLOR_BGR2GRAY)\n",
    "        diff = cv2.absdiff(prev_frame_gray, frame_gray)\n",
    "        horizontal_motiongram = np.vstack((horizontal_motiongram[1:], np.sum(diff, axis=0)))\n",
    "        vertical_motiongram = np.hstack((vertical_motiongram[:, 1:], np.sum(diff, axis=1).reshape(-1, 1)))\n",
    "        prev_frame_gray = frame_gray\n",
    "\n",
    "    cap.release()\n",
    "\n",
    "    # Stack the motiongrams along a new axis to create a \"3D\" array\n",
    "    video_feature = np.stack((vertical_motiongram, horizontal_motiongram), axis=-1)\n",
    "\n",
    "    # Get the basename of the video file\n",
    "    basename = os.path.splitext(os.path.basename(video_file_path))[0]\n",
    "\n",
    "    # Save the stacked feature array into a .npy file\n",
    "    np.save(f\"/itf-fi-ml/shared/users/annammc/Anna/video/{basename}.npy\", video_feature)"
   ]
  },
  {
   "cell_type": "code",
   "execution_count": 12,
   "metadata": {},
   "outputs": [],
   "source": [
    "db_gesture = \"/itf-fi-ml/shared/users/annammc/Anna/video/*\"\n",
    "files = glob.glob(db_gesture)\n",
    "filename = [os.path.basename(item) for item in files]\n",
    "\n",
    "target = [item.split(\"_\")[-3] for item in files]\n",
    "\n",
    "label_encoder = LabelEncoder()\n",
    "target_idx = label_encoder.fit_transform(target) # Change class names to numeric\n",
    "\n",
    "dict = {'video_npy': filename, 'target': target, 'target_idx': target_idx}\n",
    "dataset_all = pd.DataFrame(dict)\n",
    "\n",
    "dataset_all.to_csv('metadata.csv')\n"
   ]
  },
  {
   "cell_type": "code",
   "execution_count": 14,
   "metadata": {},
   "outputs": [],
   "source": [
    "X = dataset_all['video_npy']\n",
    "y = dataset_all['target_idx']\n",
    "X_train, X_test, y_train, y_test = train_test_split(X, y, test_size=0.25, shuffle=True)"
   ]
  },
  {
   "cell_type": "code",
   "execution_count": null,
   "metadata": {},
   "outputs": [],
   "source": [
    "train_df = pd.DataFrame({'filename': list(X_train), 'target': list(y_train)})\n",
    "test_df = pd.DataFrame({'filename':list(X_test), 'target': list(y_test)})\n",
    "\n",
    "train_df.to_csv(\"/itf-fi-ml/shared/users/annammc/Anna/video/train.csv\") \n",
    "test_df.to_csv(\"/itf-fi-ml/shared/users/annammc/Anna/video/test.csv\")"
   ]
  }
 ],
 "metadata": {
  "kernelspec": {
   "display_name": "base",
   "language": "python",
   "name": "python3"
  },
  "language_info": {
   "codemirror_mode": {
    "name": "ipython",
    "version": 3
   },
   "file_extension": ".py",
   "mimetype": "text/x-python",
   "name": "python",
   "nbconvert_exporter": "python",
   "pygments_lexer": "ipython3",
   "version": "3.12.0b4"
  }
 },
 "nbformat": 4,
 "nbformat_minor": 2
}
