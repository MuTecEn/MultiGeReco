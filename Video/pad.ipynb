{
 "cells": [
  {
   "cell_type": "code",
   "execution_count": 1,
   "metadata": {},
   "outputs": [],
   "source": [
    "# Load all the necessary modules\n",
    "\n",
    "import os\n",
    "import torch\n",
    "import glob\n",
    "import numpy as np\n",
    "import pandas as pd\n",
    "from sklearn.preprocessing import LabelEncoder\n",
    "from sklearn.model_selection import train_test_split\n",
    "import cv2\n"
   ]
  },
  {
   "cell_type": "code",
   "execution_count": 2,
   "metadata": {},
   "outputs": [],
   "source": [
    "# Load metadata CSV file\n",
    "path = \"/path/to/your/dataset\"\n",
    "videofile_list = glob.glob(os.path.join(path, \"*.mov\"))"
   ]
  },
  {
   "cell_type": "code",
   "execution_count": 3,
   "metadata": {},
   "outputs": [],
   "source": [
    "for video_file_path in videofile_list:\n",
    "    cap = cv2.VideoCapture(video_file_path)\n",
    "    frame_count = int(cap.get(cv2.CAP_PROP_FRAME_COUNT))\n",
    "\n",
    "    ret, prev_frame = cap.read()\n",
    "    if not ret:\n",
    "        print(f'Failed to read video {video_file_path}')\n",
    "        cap.release()\n",
    "        continue\n",
    "\n",
    "    prev_frame_gray = cv2.cvtColor(prev_frame, cv2.COLOR_BGR2GRAY)\n",
    "\n",
    "    horizontal_motiongram = np.zeros((prev_frame_gray.shape[1], frame_count), dtype=np.float32)  # Swap dimensions\n",
    "    vertical_motiongram = np.zeros((prev_frame_gray.shape[1], frame_count), dtype=np.float32)  # Swap dimensions and match width of horizontal motiongram\n",
    "\n",
    "    frame_index = 0\n",
    "    while True:\n",
    "        ret, frame = cap.read()\n",
    "        if not ret:\n",
    "            break\n",
    "\n",
    "        frame_gray = cv2.cvtColor(frame, cv2.COLOR_BGR2GRAY)\n",
    "        diff = cv2.absdiff(prev_frame_gray, frame_gray)\n",
    "        horizontal_diff = np.sum(diff, axis=0)\n",
    "        vertical_diff = np.sum(diff, axis=1)\n",
    "\n",
    "        horizontal_motiongram[:, frame_index] = horizontal_diff  # Swap dimensions\n",
    "        vertical_motiongram[:len(vertical_diff), frame_index] = vertical_diff  # Swap dimensions and pad the vertical motiongram to match the width\n",
    "\n",
    "        frame_index += 1\n",
    "        prev_frame_gray = frame_gray\n",
    "\n",
    "    cap.release()\n",
    "\n",
    "    averaged_motiongram = (horizontal_motiongram + vertical_motiongram) / 2\n",
    "\n",
    "    video_feature = np.concatenate((averaged_motiongram.T, np.full((frame_count, 1), frame_count)), axis=1).T  # Transpose before concatenation\n",
    "\n",
    "    basename = os.path.splitext(os.path.basename(video_file_path))[0]\n",
    "\n",
    "    np.save(f\"/path/to/your/video/{basename}.npy\", video_feature)"
   ]
  },
  {
   "cell_type": "code",
   "execution_count": 4,
   "metadata": {},
   "outputs": [],
   "source": [
    "db_gesture = \"/path/to/your/video/*\"\n",
    "files = glob.glob(db_gesture)\n",
    "filename = [os.path.basename(item) for item in files]\n",
    "\n",
    "target = [item.split(\"_\")[-3] for item in files]\n",
    "\n",
    "label_encoder = LabelEncoder()\n",
    "target_idx = label_encoder.fit_transform(target) # Change class names to numeric\n",
    "\n",
    "dict = {'video_npy': filename, 'target': target, 'target_idx': target_idx}\n",
    "dataset_all = pd.DataFrame(dict)\n",
    "\n",
    "dataset_all.to_csv('metadata.csv')\n"
   ]
  },
  {
   "cell_type": "code",
   "execution_count": 6,
   "metadata": {},
   "outputs": [],
   "source": [
    "X = dataset_all['video_npy']\n",
    "y = dataset_all['target_idx']\n",
    "X_train, X_test, y_train, y_test = train_test_split(X, y, test_size=0.25, shuffle=True)"
   ]
  },
  {
   "cell_type": "code",
   "execution_count": 7,
   "metadata": {},
   "outputs": [],
   "source": [
    "train_df = pd.DataFrame({'filename': list(X_train), 'target': list(y_train)})\n",
    "test_df = pd.DataFrame({'filename':list(X_test), 'target': list(y_test)})\n",
    "\n",
    "\n",
    "train_df.to_csv(\"/path/to/your/video/train.csv\")\n",
    "test_df.to_csv(\"/path/to/your/video/test.csv\")"
   ]
  }
 ],
 "metadata": {
  "kernelspec": {
   "display_name": "base",
   "language": "python",
   "name": "python3"
  },
  "language_info": {
   "codemirror_mode": {
    "name": "ipython",
    "version": 3
   },
   "file_extension": ".py",
   "mimetype": "text/x-python",
   "name": "python",
   "nbconvert_exporter": "python",
   "pygments_lexer": "ipython3",
   "version": "3.12.0b4"
  }
 },
 "nbformat": 4,
 "nbformat_minor": 2
}
